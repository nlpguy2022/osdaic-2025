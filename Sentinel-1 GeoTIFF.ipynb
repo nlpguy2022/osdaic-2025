{
 "cells": [
  {
   "cell_type": "markdown",
   "metadata": {},
   "source": [
    "## EY Data Challenge - Sentinel-1 Sample Notebook"
   ]
  },
  {
   "cell_type": "code",
   "execution_count": 1,
   "metadata": {},
   "outputs": [],
   "source": [
    "import rasterio\n",
    "import pandas as pd\n",
    "import pystac_client\n",
    "import rioxarray as rio\n",
    "import planetary_computer\n",
    "from datetime import datetime\n",
    "from odc.stac import stac_load\n",
    "from pystac.extensions.eo import EOExtension as eo\n",
    "\n",
    "stac = pystac_client.Client.open(\"https://planetarycomputer.microsoft.com/api/stac/v1/\")"
   ]
  },
  {
   "cell_type": "code",
   "execution_count": 2,
   "metadata": {},
   "outputs": [],
   "source": [
    "# Define the bounding box for the entire data region using (Latitude, Longitude)\n",
    "# This is the region of New York City that contains our temperature dataset\n",
    "lower_left = (40.75, -74.01)\n",
    "upper_right = (40.88, -73.86)\n",
    "\n",
    "# Calculate the bounds for doing an archive data search\n",
    "# bounds = (min_lon, min_lat, max_lon, max_lat)\n",
    "bounds = (lower_left[1], lower_left[0], upper_right[1], upper_right[0]) # (min_lon, min_lat, max_lon, max_lat)\n",
    "\n",
    "# Define the time window - THIS IS THE PART THAT WE NEED TO ITERATE OVER LATER\n",
    "time_window = \"2021-06-01/2021-09-01\""
   ]
  },
  {
   "cell_type": "code",
   "execution_count": 3,
   "metadata": {},
   "outputs": [
    {
     "name": "stderr",
     "output_type": "stream",
     "text": [
      "c:\\Users\\GV631HJ\\OneDrive - EY\\Desktop\\challenge\\venv\\Lib\\site-packages\\pystac_client\\item_search.py:896: FutureWarning: get_all_items() is deprecated, use item_collection() instead.\n",
      "  warnings.warn(\n"
     ]
    },
    {
     "name": "stdout",
     "output_type": "stream",
     "text": [
      "This is the number of Sentinel-1 scenes that touch our region: 7\n"
     ]
    }
   ],
   "source": [
    "search_sentinel_1 = stac.search(\n",
    "    bbox=bounds, \n",
    "    datetime=time_window,\n",
    "    collections=[\"sentinel-1-rtc\"]\n",
    ")\n",
    "items_1 = list(search_sentinel_1.get_all_items())\n",
    "print('This is the number of Sentinel-1 scenes that touch our region:', len(items_1))\n",
    "\n",
    "signed_items_1 = [planetary_computer.sign(item).to_dict() for item in items_1]\n",
    "\n",
    "# Define the pixel resolution for the final product\n",
    "# Define the scale according to our selected crs, so we will use degrees\n",
    "resolution = 10  # meters per pixel \n",
    "scale = resolution / 111320.0 # degrees per pixel for crs=4326 \n",
    "\n",
    "# Load the data using Open Data Cube\n",
    "data_sentinel_1 = stac_load(items_1,bands=[\"vv\", \"vh\"], patch_url=planetary_computer.sign, bbox=bounds, crs=\"EPSG:4326\", resolution=scale)"
   ]
  },
  {
   "cell_type": "code",
   "execution_count": 4,
   "metadata": {},
   "outputs": [],
   "source": [
    "median = data_sentinel_1.median(dim=\"time\").compute()"
   ]
  },
  {
   "cell_type": "code",
   "execution_count": 5,
   "metadata": {},
   "outputs": [],
   "source": [
    "filename = \"../data/S1_median_2025-03-15_v1.tiff\""
   ]
  },
  {
   "cell_type": "code",
   "execution_count": 6,
   "metadata": {},
   "outputs": [
    {
     "name": "stderr",
     "output_type": "stream",
     "text": [
      "C:\\Users\\GV631HJ\\AppData\\Local\\Temp\\ipykernel_12908\\3859263188.py:1: FutureWarning: The return type of `Dataset.dims` will be changed to return a set of dimension names in future, in order to be more consistent with `DataArray.dims`. To access a mapping from dimension names to lengths, please use `Dataset.sizes`.\n",
      "  height = median.dims[\"latitude\"]\n",
      "C:\\Users\\GV631HJ\\AppData\\Local\\Temp\\ipykernel_12908\\3859263188.py:2: FutureWarning: The return type of `Dataset.dims` will be changed to return a set of dimension names in future, in order to be more consistent with `DataArray.dims`. To access a mapping from dimension names to lengths, please use `Dataset.sizes`.\n",
      "  width = median.dims[\"longitude\"]\n"
     ]
    }
   ],
   "source": [
    "height = median.dims[\"latitude\"]\n",
    "width = median.dims[\"longitude\"]\n",
    "\n",
    "# Define the Coordinate Reference System (CRS) to be common Lat-Lon coordinates\n",
    "# Define the tranformation using our bounding box so the Lat-Lon information is written to the GeoTIFF\n",
    "gt = rasterio.transform.from_bounds(lower_left[1],lower_left[0],upper_right[1],upper_right[0],width,height)\n",
    "median.rio.write_crs(\"epsg:4326\", inplace=True)\n",
    "median.rio.write_transform(transform=gt, inplace=True)\n",
    "\n",
    "# Create the GeoTIFF output file using the defined parameters \n",
    "with rasterio.open(filename, 'w', driver='GTiff', width=width, height=height, crs='epsg:4326', transform=gt, count=2, compress='lzw', dtype='float64') as dst:\n",
    "    dst.write(median.vv, 1)\n",
    "    dst.write(median.vh, 2)\n",
    "    dst.close()"
   ]
  }
 ],
 "metadata": {
  "kernelspec": {
   "display_name": "venv",
   "language": "python",
   "name": "python3"
  },
  "language_info": {
   "codemirror_mode": {
    "name": "ipython",
    "version": 3
   },
   "file_extension": ".py",
   "mimetype": "text/x-python",
   "name": "python",
   "nbconvert_exporter": "python",
   "pygments_lexer": "ipython3",
   "version": "3.11.7"
  }
 },
 "nbformat": 4,
 "nbformat_minor": 2
}
